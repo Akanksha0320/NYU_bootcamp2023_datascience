{
  "nbformat": 4,
  "nbformat_minor": 0,
  "metadata": {
    "colab": {
      "provenance": []
    },
    "kernelspec": {
      "name": "python3",
      "display_name": "Python 3"
    },
    "language_info": {
      "name": "python"
    }
  },
  "cells": [
    {
      "cell_type": "markdown",
      "source": [
        "Fibonacci Series upto 10 terms"
      ],
      "metadata": {
        "id": "JrelS1mSi2Dv"
      }
    },
    {
      "cell_type": "code",
      "source": [
        "a, b = 0, 1\n",
        "for x in range(10):\n",
        "    print(a)\n",
        "    a, b = b, a + b #swapping"
      ],
      "metadata": {
        "colab": {
          "base_uri": "https://localhost:8080/"
        },
        "id": "ud7tgPT0jBYU",
        "outputId": "b996840c-3125-4e16-e877-1bb62d7ab44d"
      },
      "execution_count": 4,
      "outputs": [
        {
          "output_type": "stream",
          "name": "stdout",
          "text": [
            "0\n",
            "1\n",
            "1\n",
            "2\n",
            "3\n",
            "5\n",
            "8\n",
            "13\n",
            "21\n",
            "34\n"
          ]
        }
      ]
    },
    {
      "cell_type": "markdown",
      "source": [
        "numbers at the odd indices of a list"
      ],
      "metadata": {
        "id": "yhDB-i620llw"
      }
    },
    {
      "cell_type": "code",
      "source": [
        "list1=[]\n",
        "for i in range(10):\n",
        "  list1.append(i)"
      ],
      "metadata": {
        "id": "j_rd5Tzq02d4"
      },
      "execution_count": 12,
      "outputs": []
    },
    {
      "cell_type": "code",
      "source": [
        "list1\n"
      ],
      "metadata": {
        "id": "-W6lgdP0lxGL",
        "colab": {
          "base_uri": "https://localhost:8080/"
        },
        "outputId": "e813fc19-76f7-44f2-a94a-3c03763db210"
      },
      "execution_count": 13,
      "outputs": [
        {
          "output_type": "execute_result",
          "data": {
            "text/plain": [
              "[0, 1, 2, 3, 4, 5, 6, 7, 8, 9]"
            ]
          },
          "metadata": {},
          "execution_count": 13
        }
      ]
    },
    {
      "cell_type": "code",
      "source": [
        "list1[1:10:2]"
      ],
      "metadata": {
        "colab": {
          "base_uri": "https://localhost:8080/"
        },
        "id": "aqGAgOCe2PwY",
        "outputId": "6ea4211b-6b58-48b0-dc0a-211296e42524"
      },
      "execution_count": 15,
      "outputs": [
        {
          "output_type": "execute_result",
          "data": {
            "text/plain": [
              "[1, 3, 5, 7, 9]"
            ]
          },
          "metadata": {},
          "execution_count": 15
        }
      ]
    },
    {
      "cell_type": "markdown",
      "source": [
        "list in reverse order"
      ],
      "metadata": {
        "id": "xWUTA_-62r5n"
      }
    },
    {
      "cell_type": "code",
      "source": [
        "list1[::-1]"
      ],
      "metadata": {
        "colab": {
          "base_uri": "https://localhost:8080/"
        },
        "id": "i8bOBtKP2uY9",
        "outputId": "feafc835-7782-46c8-c76a-20dfcc955138"
      },
      "execution_count": 16,
      "outputs": [
        {
          "output_type": "execute_result",
          "data": {
            "text/plain": [
              "[9, 8, 7, 6, 5, 4, 3, 2, 1, 0]"
            ]
          },
          "metadata": {},
          "execution_count": 16
        }
      ]
    },
    {
      "cell_type": "markdown",
      "source": [
        "count the number of different words"
      ],
      "metadata": {
        "id": "5f0QRlcT2823"
      }
    },
    {
      "cell_type": "code",
      "source": [
        "string=input()\n",
        "string.lower()\n",
        "words=string.split()\n",
        "unique=set(words)\n",
        "count=len(unique)\n",
        "count"
      ],
      "metadata": {
        "colab": {
          "base_uri": "https://localhost:8080/"
        },
        "id": "JPIzqzr42yjZ",
        "outputId": "342651a0-1374-41fb-8f05-092c7715b38b"
      },
      "execution_count": 21,
      "outputs": [
        {
          "name": "stdout",
          "output_type": "stream",
          "text": [
            "ChatGPT has created this text to provide tips on creating interesting paragraphs.  \tFirst, start with a clear topic sentence that introduces the main idea.  \tThen, support the topic sentence with specific details, examples, and evidence. \tVary the sentence length and structure to keep the reader engaged. \tFinally, end with a strong concluding sentence that summarizes the main points. \tRemember, practice makes perfect!\n"
          ]
        },
        {
          "output_type": "execute_result",
          "data": {
            "text/plain": [
              "47"
            ]
          },
          "metadata": {},
          "execution_count": 21
        }
      ]
    },
    {
      "cell_type": "markdown",
      "source": [
        "Write a function that takes a word as an argument and returns the number of vowels in the word"
      ],
      "metadata": {
        "id": "4cwy0nRn6pjl"
      }
    },
    {
      "cell_type": "code",
      "source": [
        "def num_vowels(word):\n",
        "  vowels=set(\"aeiouAEIOU\")\n",
        "  count=0\n",
        "  for char in word:\n",
        "    if char in vowels:\n",
        "      count+=1\n",
        "  return count\n",
        "\n",
        "num_vowels(\"akanksha\")"
      ],
      "metadata": {
        "colab": {
          "base_uri": "https://localhost:8080/"
        },
        "id": "xQlObjuS3mBE",
        "outputId": "765fae03-49c2-4833-d466-1c475ba5a9e8"
      },
      "execution_count": 25,
      "outputs": [
        {
          "output_type": "execute_result",
          "data": {
            "text/plain": [
              "3"
            ]
          },
          "metadata": {},
          "execution_count": 25
        }
      ]
    },
    {
      "cell_type": "markdown",
      "source": [
        "Iterate through the following list of animals and print each one in all caps."
      ],
      "metadata": {
        "id": "8t0dRw_F9XGI"
      }
    },
    {
      "cell_type": "code",
      "source": [
        "animals=['tiger', 'elephant', 'monkey', 'zebra', 'panther']\n",
        "for x in animals:\n",
        "  y=x.upper()\n",
        "  print(y)"
      ],
      "metadata": {
        "colab": {
          "base_uri": "https://localhost:8080/"
        },
        "id": "CiQCA3fJ8FEk",
        "outputId": "e1181fae-2444-4800-93dc-24e0427b1fb4"
      },
      "execution_count": 29,
      "outputs": [
        {
          "output_type": "stream",
          "name": "stdout",
          "text": [
            "TIGER\n",
            "ELEPHANT\n",
            "MONKEY\n",
            "ZEBRA\n",
            "PANTHER\n"
          ]
        }
      ]
    },
    {
      "cell_type": "markdown",
      "source": [
        "Iterate from 1 to 15, printing whether the number is odd or even"
      ],
      "metadata": {
        "id": "kSwMXDpG-HcC"
      }
    },
    {
      "cell_type": "code",
      "source": [
        "for x in range(1,16):\n",
        "  if x%2==0:\n",
        "    print(x, \"even\")\n",
        "  else:\n",
        "    print(x, \"odd\")"
      ],
      "metadata": {
        "colab": {
          "base_uri": "https://localhost:8080/"
        },
        "id": "Ewv1g6-C9uBF",
        "outputId": "6dc8d248-0511-49dd-8500-ec9e547b8172"
      },
      "execution_count": 31,
      "outputs": [
        {
          "output_type": "stream",
          "name": "stdout",
          "text": [
            "1 odd\n",
            "2 even\n",
            "3 odd\n",
            "4 even\n",
            "5 odd\n",
            "6 even\n",
            "7 odd\n",
            "8 even\n",
            "9 odd\n",
            "10 even\n",
            "11 odd\n",
            "12 even\n",
            "13 odd\n",
            "14 even\n",
            "15 odd\n"
          ]
        }
      ]
    },
    {
      "cell_type": "markdown",
      "source": [
        "Take two integers as input from user and return the sum"
      ],
      "metadata": {
        "id": "dXq5nEx6-vfn"
      }
    },
    {
      "cell_type": "code",
      "source": [
        "int1=int(input(\"integer 1: \"))\n",
        "int2=int(input(\"integer 2: \"))\n",
        "sum=int1+int2\n",
        "sum"
      ],
      "metadata": {
        "colab": {
          "base_uri": "https://localhost:8080/"
        },
        "id": "w8ALx8bZ-5Gm",
        "outputId": "3094d17e-d718-4587-f1e2-fccc40372463"
      },
      "execution_count": 34,
      "outputs": [
        {
          "name": "stdout",
          "output_type": "stream",
          "text": [
            "integer 1: 25\n",
            "integer 2: 86\n"
          ]
        },
        {
          "output_type": "execute_result",
          "data": {
            "text/plain": [
              "111"
            ]
          },
          "metadata": {},
          "execution_count": 34
        }
      ]
    },
    {
      "cell_type": "code",
      "source": [],
      "metadata": {
        "id": "DzQZbZga-RNP"
      },
      "execution_count": null,
      "outputs": []
    }
  ]
}